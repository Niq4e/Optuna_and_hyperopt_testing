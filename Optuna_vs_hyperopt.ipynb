{
  "cells": [
    {
      "cell_type": "markdown",
      "metadata": {},
      "source": [
        "Импорт библиотек\n",
        "--------------------"
      ]
    },
    {
      "cell_type": "code",
      "execution_count": 2,
      "metadata": {
        "id": "yXmYZuK86V8j"
      },
      "outputs": [],
      "source": [
        "import pandas as pd\n",
        "import numpy as np\n",
        "import matplotlib.pyplot as plt\n",
        "import seaborn as sns\n",
        "from sklearn.model_selection import StratifiedKFold"
      ]
    },
    {
      "cell_type": "code",
      "execution_count": 3,
      "metadata": {},
      "outputs": [],
      "source": [
        "from sklearn.model_selection import train_test_split,cross_val_score\n",
        "from sklearn.ensemble import RandomForestClassifier\n",
        "from sklearn.metrics import accuracy_score, classification_report, roc_auc_score"
      ]
    },
    {
      "cell_type": "code",
      "execution_count": 4,
      "metadata": {},
      "outputs": [],
      "source": [
        "from sklearn.pipeline import Pipeline\n",
        "from sklearn.compose import ColumnTransformer\n",
        "from sklearn.preprocessing import StandardScaler\n",
        "from sklearn.preprocessing import OneHotEncoder\n",
        "from sklearn.impute import SimpleImputer"
      ]
    },
    {
      "cell_type": "code",
      "execution_count": 5,
      "metadata": {
        "id": "jtuc5vgH6ci_"
      },
      "outputs": [],
      "source": [
        "from sklearn.preprocessing import LabelEncoder"
      ]
    },
    {
      "cell_type": "code",
      "execution_count": 6,
      "metadata": {
        "id": "X11rT_sX62N1"
      },
      "outputs": [],
      "source": [
        "import warnings\n",
        "warnings.filterwarnings('ignore')"
      ]
    },
    {
      "cell_type": "markdown",
      "metadata": {},
      "source": [
        "EDA\n",
        "--------------------"
      ]
    },
    {
      "cell_type": "code",
      "execution_count": 7,
      "metadata": {
        "id": "twBj7FzXAWJF"
      },
      "outputs": [],
      "source": [
        "DTYPE = {\n",
        "    \"id\":np.int64,\n",
        "    \"CustomerId\":np.int64,\n",
        "    \"CreditScore\":np.int64,\n",
        "    \"Tenure\":np.int8,\n",
        "    \"Balance\":np.float64,\n",
        "    \"NumOfProducts\":np.int8,\n",
        "    \"HasCrCard\":np.int8,\n",
        "    \"IsActiveMember\":np.int8,\n",
        "    \"EstimatedSalary\":np.float64,\n",
        "}\n",
        "\n",
        "def dataloader(path: str) -> pd.DataFrame:\n",
        "    \"\"\"takes in a test/train data path and returns a processed dataframe\"\"\"\n",
        "    df = pd.read_csv(path)\n",
        "    df = (df\n",
        "          .astype(DTYPE)\n",
        "          # one-hot-encoding gender\n",
        "          .replace({\"Gender\":{\"Male\":0, \"Female\":1}})\n",
        "          .astype({\"Gender\":np.int8})\n",
        "          # round age and convert to int\n",
        "          .assign(age=lambda d: d['Age'].round(0).astype(int))\n",
        "         )\n",
        "    return df"
      ]
    },
    {
      "cell_type": "code",
      "execution_count": 8,
      "metadata": {
        "colab": {
          "base_uri": "https://localhost:8080/",
          "height": 321
        },
        "id": "PXuUhyj_66uG",
        "outputId": "b3f646c3-cbe0-4293-e650-e20f7573f343"
      },
      "outputs": [],
      "source": [
        "## reload data\n",
        "df = dataloader('train.csv')"
      ]
    },
    {
      "cell_type": "code",
      "execution_count": 9,
      "metadata": {
        "id": "OY98C5d07ZjA"
      },
      "outputs": [],
      "source": [
        "from ydata_profiling import ProfileReport\n"
      ]
    },
    {
      "cell_type": "code",
      "execution_count": 10,
      "metadata": {
        "colab": {
          "base_uri": "https://localhost:8080/",
          "height": 193
        },
        "id": "YWATqpNo7yv0",
        "outputId": "e923a5aa-91b7-47e8-ff1b-9651880ad1e0"
      },
      "outputs": [],
      "source": [
        "# Генерация профильного отчета\n",
        "profile = ProfileReport(\n",
        "        df, title=\"Profile Report of the UCI Bank Marketing Dataset\", explorative=True\n",
        "    )"
      ]
    },
    {
      "cell_type": "code",
      "execution_count": 11,
      "metadata": {
        "colab": {
          "base_uri": "https://localhost:8080/",
          "height": 159
        },
        "id": "OPEtl3KX8EOv",
        "outputId": "2c336713-2e7a-40c4-e728-b07b0df6a14c"
      },
      "outputs": [],
      "source": [
        "#profile"
      ]
    },
    {
      "cell_type": "code",
      "execution_count": 12,
      "metadata": {
        "id": "GTol2tQx8i9s"
      },
      "outputs": [],
      "source": [
        "def add_new_features(df):\n",
        "    b = [0,30,40,50,65,100]\n",
        "    l = ['<30', '30-40', '40-50','50-65','65+']\n",
        "    df['AgeGroup'] = pd.cut(df['Age'], bins=b, labels=l, include_lowest=True)\n",
        "    df['Balance_to_Salary_Ratio'] = df['Balance'] / df['EstimatedSalary']\n",
        "    df['CreditScoreTier'] = pd.cut(df['CreditScore'], bins=[0, 650, 750, 850], labels=['0', '1', '2'])\n",
        "    df['IsActive_by_CreditCard'] = df['HasCrCard'] * df['IsActiveMember']\n",
        "    df['Customer_Status'] = df['Tenure'].apply(lambda x:0 if x < 2 else 1)\n",
        "    return df"
      ]
    },
    {
      "cell_type": "code",
      "execution_count": 13,
      "metadata": {
        "id": "Iqrst4i68lRw"
      },
      "outputs": [],
      "source": [
        "df=add_new_features(df)"
      ]
    },
    {
      "cell_type": "code",
      "execution_count": 14,
      "metadata": {},
      "outputs": [],
      "source": [
        "def kill_upon_alerts(df):\n",
        "    df_clean = df.drop(['age', 'Tenure', 'id', 'Balance', 'Surname', 'CustomerId', 'Age' ], axis=1)\n",
        "    return df_clean"
      ]
    },
    {
      "cell_type": "code",
      "execution_count": 15,
      "metadata": {},
      "outputs": [],
      "source": [
        "df=kill_upon_alerts(df)"
      ]
    },
    {
      "cell_type": "code",
      "execution_count": 17,
      "metadata": {},
      "outputs": [
        {
          "data": {
            "text/plain": [
              "0"
            ]
          },
          "execution_count": 17,
          "metadata": {},
          "output_type": "execute_result"
        }
      ],
      "source": [
        "df.isna().sum().sum()"
      ]
    },
    {
      "cell_type": "code",
      "execution_count": 18,
      "metadata": {},
      "outputs": [
        {
          "data": {
            "text/plain": [
              "CreditScore                   int64\n",
              "Geography                    object\n",
              "Gender                         int8\n",
              "NumOfProducts                  int8\n",
              "HasCrCard                      int8\n",
              "IsActiveMember                 int8\n",
              "EstimatedSalary             float64\n",
              "Exited                        int64\n",
              "AgeGroup                   category\n",
              "Balance_to_Salary_Ratio     float64\n",
              "CreditScoreTier            category\n",
              "IsActive_by_CreditCard         int8\n",
              "Customer_Status               int64\n",
              "dtype: object"
            ]
          },
          "execution_count": 18,
          "metadata": {},
          "output_type": "execute_result"
        }
      ],
      "source": [
        "df.dtypes"
      ]
    },
    {
      "cell_type": "code",
      "execution_count": 19,
      "metadata": {},
      "outputs": [],
      "source": [
        "df.columns = df.columns.str.lower()"
      ]
    },
    {
      "cell_type": "code",
      "execution_count": 20,
      "metadata": {},
      "outputs": [],
      "source": [
        "df.geography = df.geography.str.lower()"
      ]
    },
    {
      "cell_type": "markdown",
      "metadata": {},
      "source": [
        "Preprocessing\n",
        "--------------------"
      ]
    },
    {
      "cell_type": "code",
      "execution_count": 21,
      "metadata": {},
      "outputs": [],
      "source": [
        "X,y = df.drop('exited', axis=1), df.exited"
      ]
    },
    {
      "cell_type": "code",
      "execution_count": 22,
      "metadata": {},
      "outputs": [
        {
          "name": "stdout",
          "output_type": "stream",
          "text": [
            "numeric=['creditscore', 'gender', 'numofproducts', 'hascrcard', 'isactivemember', 'estimatedsalary', 'balance_to_salary_ratio', 'isactive_by_creditcard', 'customer_status']\n",
            "cats=['geography', 'agegroup', 'creditscoretier']\n"
          ]
        }
      ],
      "source": [
        "objects = ['object','category', 'bool']\n",
        "cat_features = X.select_dtypes(include=objects).columns.tolist()\n",
        "\n",
        "numerics = ['int8', 'int16', 'int32', 'int64', 'float16', 'float32', 'float64']\n",
        "num_features = X.select_dtypes(include=numerics).columns.tolist()\n",
        "\n",
        "print(f'numeric={num_features}\\ncats={cat_features}')"
      ]
    },
    {
      "cell_type": "code",
      "execution_count": 23,
      "metadata": {},
      "outputs": [],
      "source": [
        "num_pipeline = Pipeline(steps=[\n",
        "    ('std_scaler', StandardScaler()),\n",
        "])\n",
        "cat_pipeline = Pipeline(steps=[\n",
        "    (\"onehot\", OneHotEncoder(handle_unknown='ignore'))\n",
        "])"
      ]
    },
    {
      "cell_type": "code",
      "execution_count": 24,
      "metadata": {},
      "outputs": [],
      "source": [
        "preprocessor = ColumnTransformer(transformers=[\n",
        "    (\"num\", num_pipeline, num_features),\n",
        "    (\"cat\", cat_pipeline, cat_features)\n",
        "])"
      ]
    },
    {
      "cell_type": "code",
      "execution_count": 25,
      "metadata": {},
      "outputs": [],
      "source": [
        "Xtrain, Xtest, ytrain, ytest = train_test_split(X, y, test_size=0.2, random_state=42)"
      ]
    },
    {
      "cell_type": "code",
      "execution_count": 75,
      "metadata": {},
      "outputs": [],
      "source": [
        "stat = pd.DataFrame(columns=['params', 'cv_ROC_AUC_score', 'cv_std'])"
      ]
    },
    {
      "cell_type": "code",
      "execution_count": 72,
      "metadata": {},
      "outputs": [],
      "source": [
        "\n",
        "rf_tuned_1 = {'max_depth': 10, 'max_features': 9, 'n_estimators': 200}\n",
        "rf_tuned_2 = {'criterion': 'log_loss',\n",
        " 'max_depth': 11,\n",
        " 'max_features': 11,\n",
        " 'min_samples_leaf': 4,\n",
        " 'min_samples_split': 12,\n",
        " 'n_estimators': 100}\n",
        "rf_tuned_3 = {'max_depth': 8, 'max_features': 23, 'n_estimators': 220, 'min_samples_split': 12, 'min_samples_leaf': 18, 'criterion': 'gini'}"
      ]
    },
    {
      "cell_type": "code",
      "execution_count": 73,
      "metadata": {},
      "outputs": [],
      "source": [
        "basic_model = RandomForestClassifier(random_state=42)\n",
        "hyperopt = RandomForestClassifier(random_state=42, **rf_tuned_1)\n",
        "hyperopt_6_params = RandomForestClassifier(random_state=42, **rf_tuned_2)\n",
        "optuna_6_params = RandomForestClassifier(random_state=42, **rf_tuned_3)\n",
        "mods = [basic_model, hyperopt, hyperopt_6_params, optuna_6_params]\n",
        "mod_types = ['basic_model', 'hyperopt_3_params', 'hyperopt_6_params', 'optuna_6_params']"
      ]
    },
    {
      "cell_type": "code",
      "execution_count": 76,
      "metadata": {},
      "outputs": [],
      "source": [
        "for i in range(len(mods)):\n",
        "    model = Pipeline(steps=[(\"preprocessor\",preprocessor),\n",
        "                            (\"classifier\", mods[i])\n",
        "                        ])\n",
        "    model.fit(Xtrain, ytrain)\n",
        "\n",
        "    cv = StratifiedKFold(n_splits=5)\n",
        "    scores = cross_val_score(model, Xtrain, ytrain, cv=cv, scoring = 'roc_auc')\n",
        "\n",
        "    res = pd.DataFrame({\n",
        "        'params': [mod_types[i]],\n",
        "        'cv_ROC_AUC_score': [np.mean(scores)],\n",
        "        'cv_std': [np.std(scores)]})\n",
        "    stat = pd.concat([stat, res]).reset_index(drop=True)"
      ]
    },
    {
      "cell_type": "code",
      "execution_count": 77,
      "metadata": {},
      "outputs": [
        {
          "data": {
            "text/html": [
              "<div>\n",
              "<style scoped>\n",
              "    .dataframe tbody tr th:only-of-type {\n",
              "        vertical-align: middle;\n",
              "    }\n",
              "\n",
              "    .dataframe tbody tr th {\n",
              "        vertical-align: top;\n",
              "    }\n",
              "\n",
              "    .dataframe thead th {\n",
              "        text-align: right;\n",
              "    }\n",
              "</style>\n",
              "<table border=\"1\" class=\"dataframe\">\n",
              "  <thead>\n",
              "    <tr style=\"text-align: right;\">\n",
              "      <th></th>\n",
              "      <th>params</th>\n",
              "      <th>cv_ROC_AUC_score</th>\n",
              "      <th>cv_std</th>\n",
              "    </tr>\n",
              "  </thead>\n",
              "  <tbody>\n",
              "    <tr>\n",
              "      <th>0</th>\n",
              "      <td>basic_model</td>\n",
              "      <td>0.852160</td>\n",
              "      <td>0.002840</td>\n",
              "    </tr>\n",
              "    <tr>\n",
              "      <th>1</th>\n",
              "      <td>hyperopt_3_params</td>\n",
              "      <td>0.882080</td>\n",
              "      <td>0.002012</td>\n",
              "    </tr>\n",
              "    <tr>\n",
              "      <th>2</th>\n",
              "      <td>hyperopt_6_params</td>\n",
              "      <td>0.881265</td>\n",
              "      <td>0.002015</td>\n",
              "    </tr>\n",
              "    <tr>\n",
              "      <th>3</th>\n",
              "      <td>optuna_6_params</td>\n",
              "      <td>0.881719</td>\n",
              "      <td>0.002179</td>\n",
              "    </tr>\n",
              "  </tbody>\n",
              "</table>\n",
              "</div>"
            ],
            "text/plain": [
              "              params  cv_ROC_AUC_score    cv_std\n",
              "0        basic_model          0.852160  0.002840\n",
              "1  hyperopt_3_params          0.882080  0.002012\n",
              "2  hyperopt_6_params          0.881265  0.002015\n",
              "3    optuna_6_params          0.881719  0.002179"
            ]
          },
          "execution_count": 77,
          "metadata": {},
          "output_type": "execute_result"
        }
      ],
      "source": [
        "stat "
      ]
    },
    {
      "cell_type": "markdown",
      "metadata": {},
      "source": [
        "Hyperopt implementation\n",
        "----------------"
      ]
    },
    {
      "cell_type": "code",
      "execution_count": 47,
      "metadata": {},
      "outputs": [
        {
          "name": "stdout",
          "output_type": "stream",
          "text": [
            "100%|██████████| 40/40 [54:22<00:00, 81.57s/trial, best loss: -0.8831700697482433]  \n"
          ]
        }
      ],
      "source": [
        "from hyperopt import fmin, tpe, hp, Trials, space_eval\n",
        "\n",
        "param_vars = {\n",
        "  'max_depth': hp.choice('max_depth', list(range(5, 50))),  \n",
        "  'max_features': hp.choice('max_features', list(range(3, 50))),\n",
        "  'n_estimators': hp.choice('n_estimators', list(range(10, 300, 10))),\n",
        "  'min_samples_split': hp.choice('min_samples_split', list(range(2, 17, 2))),\n",
        "  'min_samples_leaf': hp.choice('min_samples_leaf', list(range(1, 20, 1))),\n",
        "  'criterion': hp.choice('criterion', ['gini', 'log_loss']),\n",
        "}\n",
        "\n",
        "def obj_fnc(params):\n",
        "  model = Pipeline(steps=[\n",
        "        (\"preprocessor\", preprocessor),\n",
        "        (\"classifier\", RandomForestClassifier(**params,\n",
        "                                              random_state=42))\n",
        "    ])\n",
        "\n",
        "  model.fit(Xtrain, ytrain)\n",
        "  preds = model.predict_proba(Xtest)\n",
        "\n",
        "  return -1*roc_auc_score(ytest,preds[:,1])\n",
        "\n",
        "trials = Trials()\n",
        "best_params = fmin(obj_fnc, space=param_vars, algo=tpe.suggest, max_evals=40,\n",
        "                   trials=trials, show_progressbar=True)"
      ]
    },
    {
      "cell_type": "code",
      "execution_count": 52,
      "metadata": {},
      "outputs": [
        {
          "data": {
            "text/plain": [
              "{'state': 2,\n",
              " 'tid': 8,\n",
              " 'spec': None,\n",
              " 'result': {'loss': -0.8831700697482433, 'status': 'ok'},\n",
              " 'misc': {'tid': 8,\n",
              "  'cmd': ('domain_attachment', 'FMinIter_Domain'),\n",
              "  'workdir': None,\n",
              "  'idxs': {'criterion': [8],\n",
              "   'max_depth': [8],\n",
              "   'max_features': [8],\n",
              "   'min_samples_leaf': [8],\n",
              "   'min_samples_split': [8],\n",
              "   'n_estimators': [8]},\n",
              "  'vals': {'criterion': [1],\n",
              "   'max_depth': [6],\n",
              "   'max_features': [8],\n",
              "   'min_samples_leaf': [3],\n",
              "   'min_samples_split': [5],\n",
              "   'n_estimators': [9]}},\n",
              " 'exp_key': None,\n",
              " 'owner': None,\n",
              " 'version': 0,\n",
              " 'book_time': datetime.datetime(2024, 7, 28, 12, 25, 47, 169000),\n",
              " 'refresh_time': datetime.datetime(2024, 7, 28, 12, 26, 17, 67000)}"
            ]
          },
          "execution_count": 52,
          "metadata": {},
          "output_type": "execute_result"
        }
      ],
      "source": [
        "trials.best_trial"
      ]
    },
    {
      "cell_type": "code",
      "execution_count": 53,
      "metadata": {},
      "outputs": [
        {
          "data": {
            "text/plain": [
              "{'criterion': 'log_loss',\n",
              " 'max_depth': 11,\n",
              " 'max_features': 11,\n",
              " 'min_samples_leaf': 4,\n",
              " 'min_samples_split': 12,\n",
              " 'n_estimators': 100}"
            ]
          },
          "execution_count": 53,
          "metadata": {},
          "output_type": "execute_result"
        }
      ],
      "source": [
        "space_eval(param_vars, trials.argmin)"
      ]
    },
    {
      "cell_type": "markdown",
      "metadata": {},
      "source": [
        "{'max_depth': 10, 'max_features': 9, 'n_estimators': 200}"
      ]
    },
    {
      "cell_type": "markdown",
      "metadata": {},
      "source": [
        "Optuna implementation\n",
        "----------------"
      ]
    },
    {
      "cell_type": "code",
      "execution_count": 44,
      "metadata": {},
      "outputs": [],
      "source": [
        "import optuna"
      ]
    },
    {
      "cell_type": "code",
      "execution_count": 55,
      "metadata": {},
      "outputs": [
        {
          "name": "stderr",
          "output_type": "stream",
          "text": [
            "[I 2024-07-28 17:01:05,924] A new study created in memory with name: no-name-f573fb8c-920d-42fd-a02a-4e2c648d7678\n",
            "[I 2024-07-28 17:03:09,574] Trial 0 finished with value: 0.872968863467557 and parameters: {'max_depth': 21, 'max_features': 20, 'n_estimators': 120, 'min_samples_split': 10, 'min_samples_leaf': 5, 'criterion': 'log_loss'}. Best is trial 0 with value: 0.872968863467557.\n",
            "[I 2024-07-28 17:03:52,227] Trial 1 finished with value: 0.8730782034890567 and parameters: {'max_depth': 38, 'max_features': 8, 'n_estimators': 140, 'min_samples_split': 8, 'min_samples_leaf': 4, 'criterion': 'log_loss'}. Best is trial 1 with value: 0.8730782034890567.\n",
            "[I 2024-07-28 17:05:02,267] Trial 2 finished with value: 0.8820291149162164 and parameters: {'max_depth': 12, 'max_features': 37, 'n_estimators': 160, 'min_samples_split': 8, 'min_samples_leaf': 11, 'criterion': 'gini'}. Best is trial 2 with value: 0.8820291149162164.\n",
            "[I 2024-07-28 17:05:24,287] Trial 3 finished with value: 0.8766058492979202 and parameters: {'max_depth': 30, 'max_features': 33, 'n_estimators': 40, 'min_samples_split': 14, 'min_samples_leaf': 15, 'criterion': 'gini'}. Best is trial 2 with value: 0.8820291149162164.\n",
            "[I 2024-07-28 17:07:35,889] Trial 4 finished with value: 0.8731637813793417 and parameters: {'max_depth': 30, 'max_features': 14, 'n_estimators': 250, 'min_samples_split': 10, 'min_samples_leaf': 5, 'criterion': 'log_loss'}. Best is trial 2 with value: 0.8820291149162164.\n",
            "[I 2024-07-28 17:08:10,068] Trial 5 finished with value: 0.8748290732586699 and parameters: {'max_depth': 5, 'max_features': 11, 'n_estimators': 250, 'min_samples_split': 2, 'min_samples_leaf': 6, 'criterion': 'gini'}. Best is trial 2 with value: 0.8820291149162164.\n",
            "[I 2024-07-28 17:08:16,181] Trial 6 finished with value: 0.8732938177176588 and parameters: {'max_depth': 34, 'max_features': 18, 'n_estimators': 10, 'min_samples_split': 10, 'min_samples_leaf': 17, 'criterion': 'log_loss'}. Best is trial 2 with value: 0.8820291149162164.\n",
            "[I 2024-07-28 17:10:38,626] Trial 7 finished with value: 0.8792421875267327 and parameters: {'max_depth': 35, 'max_features': 20, 'n_estimators': 260, 'min_samples_split': 16, 'min_samples_leaf': 20, 'criterion': 'gini'}. Best is trial 2 with value: 0.8820291149162164.\n",
            "[I 2024-07-28 17:11:08,192] Trial 8 finished with value: 0.8769968082416155 and parameters: {'max_depth': 50, 'max_features': 3, 'n_estimators': 190, 'min_samples_split': 2, 'min_samples_leaf': 7, 'criterion': 'log_loss'}. Best is trial 2 with value: 0.8820291149162164.\n",
            "[I 2024-07-28 17:11:51,315] Trial 9 finished with value: 0.8741564319240742 and parameters: {'max_depth': 5, 'max_features': 37, 'n_estimators': 160, 'min_samples_split': 16, 'min_samples_leaf': 2, 'criterion': 'log_loss'}. Best is trial 2 with value: 0.8820291149162164.\n",
            "[I 2024-07-28 17:12:33,075] Trial 10 finished with value: 0.8800820192275958 and parameters: {'max_depth': 14, 'max_features': 50, 'n_estimators': 80, 'min_samples_split': 6, 'min_samples_leaf': 11, 'criterion': 'gini'}. Best is trial 2 with value: 0.8820291149162164.\n",
            "[I 2024-07-28 17:13:12,034] Trial 11 finished with value: 0.8783999357365566 and parameters: {'max_depth': 16, 'max_features': 50, 'n_estimators': 70, 'min_samples_split': 6, 'min_samples_leaf': 11, 'criterion': 'gini'}. Best is trial 2 with value: 0.8820291149162164.\n",
            "[I 2024-07-28 17:13:59,153] Trial 12 finished with value: 0.8801843859700827 and parameters: {'max_depth': 14, 'max_features': 50, 'n_estimators': 90, 'min_samples_split': 6, 'min_samples_leaf': 11, 'criterion': 'gini'}. Best is trial 2 with value: 0.8820291149162164.\n",
            "[I 2024-07-28 17:15:37,409] Trial 13 finished with value: 0.881611816459985 and parameters: {'max_depth': 13, 'max_features': 41, 'n_estimators': 200, 'min_samples_split': 6, 'min_samples_leaf': 14, 'criterion': 'gini'}. Best is trial 2 with value: 0.8820291149162164.\n",
            "[I 2024-07-28 17:17:32,904] Trial 14 finished with value: 0.8783495912560214 and parameters: {'max_depth': 22, 'max_features': 39, 'n_estimators': 200, 'min_samples_split': 4, 'min_samples_leaf': 15, 'criterion': 'gini'}. Best is trial 2 with value: 0.8820291149162164.\n",
            "[I 2024-07-28 17:18:55,753] Trial 15 finished with value: 0.8829269873679617 and parameters: {'max_depth': 10, 'max_features': 29, 'n_estimators': 200, 'min_samples_split': 12, 'min_samples_leaf': 14, 'criterion': 'gini'}. Best is trial 15 with value: 0.8829269873679617.\n",
            "[I 2024-07-28 17:20:50,799] Trial 16 finished with value: 0.8828789719129457 and parameters: {'max_depth': 9, 'max_features': 28, 'n_estimators': 300, 'min_samples_split': 12, 'min_samples_leaf': 9, 'criterion': 'gini'}. Best is trial 15 with value: 0.8829269873679617.\n",
            "[I 2024-07-28 17:22:36,717] Trial 17 finished with value: 0.8829724557962546 and parameters: {'max_depth': 8, 'max_features': 28, 'n_estimators': 300, 'min_samples_split': 12, 'min_samples_leaf': 8, 'criterion': 'gini'}. Best is trial 17 with value: 0.8829724557962546.\n",
            "[I 2024-07-28 17:25:41,370] Trial 18 finished with value: 0.8753281828755253 and parameters: {'max_depth': 23, 'max_features': 27, 'n_estimators': 300, 'min_samples_split': 12, 'min_samples_leaf': 8, 'criterion': 'gini'}. Best is trial 17 with value: 0.8829724557962546.\n",
            "[I 2024-07-28 17:28:14,775] Trial 19 finished with value: 0.8781866643310183 and parameters: {'max_depth': 19, 'max_features': 31, 'n_estimators': 270, 'min_samples_split': 14, 'min_samples_leaf': 13, 'criterion': 'gini'}. Best is trial 17 with value: 0.8829724557962546.\n",
            "[I 2024-07-28 17:29:31,728] Trial 20 finished with value: 0.8831613993712514 and parameters: {'max_depth': 8, 'max_features': 23, 'n_estimators': 220, 'min_samples_split': 12, 'min_samples_leaf': 18, 'criterion': 'gini'}. Best is trial 20 with value: 0.8831613993712514.\n",
            "[I 2024-07-28 17:30:57,925] Trial 21 finished with value: 0.883086597363256 and parameters: {'max_depth': 9, 'max_features': 24, 'n_estimators': 230, 'min_samples_split': 12, 'min_samples_leaf': 18, 'criterion': 'gini'}. Best is trial 20 with value: 0.8831613993712514.\n",
            "[I 2024-07-28 17:32:16,693] Trial 22 finished with value: 0.8831462303507789 and parameters: {'max_depth': 8, 'max_features': 23, 'n_estimators': 230, 'min_samples_split': 14, 'min_samples_leaf': 20, 'criterion': 'gini'}. Best is trial 20 with value: 0.8831613993712514.\n",
            "[I 2024-07-28 17:34:21,683] Trial 23 finished with value: 0.8797793204168448 and parameters: {'max_depth': 18, 'max_features': 23, 'n_estimators': 230, 'min_samples_split': 14, 'min_samples_leaf': 20, 'criterion': 'gini'}. Best is trial 20 with value: 0.8831613993712514.\n",
            "[I 2024-07-28 17:35:16,052] Trial 24 finished with value: 0.8730881487591647 and parameters: {'max_depth': 5, 'max_features': 24, 'n_estimators': 230, 'min_samples_split': 14, 'min_samples_leaf': 18, 'criterion': 'gini'}. Best is trial 20 with value: 0.8831613993712514.\n",
            "[I 2024-07-28 17:37:07,147] Trial 25 finished with value: 0.8794381071402514 and parameters: {'max_depth': 25, 'max_features': 17, 'n_estimators': 230, 'min_samples_split': 16, 'min_samples_leaf': 18, 'criterion': 'gini'}. Best is trial 20 with value: 0.8831613993712514.\n",
            "[I 2024-07-28 17:38:14,673] Trial 26 finished with value: 0.8830616983143704 and parameters: {'max_depth': 9, 'max_features': 23, 'n_estimators': 180, 'min_samples_split': 12, 'min_samples_leaf': 17, 'criterion': 'gini'}. Best is trial 20 with value: 0.8831613993712514.\n",
            "[I 2024-07-28 17:40:44,813] Trial 27 finished with value: 0.8790909029698166 and parameters: {'max_depth': 45, 'max_features': 24, 'n_estimators': 270, 'min_samples_split': 14, 'min_samples_leaf': 19, 'criterion': 'gini'}. Best is trial 20 with value: 0.8831613993712514.\n",
            "[I 2024-07-28 17:42:06,679] Trial 28 finished with value: 0.8812017286005328 and parameters: {'max_depth': 16, 'max_features': 13, 'n_estimators': 230, 'min_samples_split': 10, 'min_samples_leaf': 16, 'criterion': 'gini'}. Best is trial 20 with value: 0.8831613993712514.\n",
            "[I 2024-07-28 17:43:06,409] Trial 29 finished with value: 0.8820651430645318 and parameters: {'max_depth': 11, 'max_features': 20, 'n_estimators': 120, 'min_samples_split': 10, 'min_samples_leaf': 20, 'criterion': 'log_loss'}. Best is trial 20 with value: 0.8831613993712514.\n",
            "[I 2024-07-28 17:45:06,955] Trial 30 finished with value: 0.8793261511043058 and parameters: {'max_depth': 19, 'max_features': 34, 'n_estimators': 220, 'min_samples_split': 12, 'min_samples_leaf': 18, 'criterion': 'gini'}. Best is trial 20 with value: 0.8831613993712514.\n",
            "[I 2024-07-28 17:46:08,264] Trial 31 finished with value: 0.8831528669697049 and parameters: {'max_depth': 8, 'max_features': 22, 'n_estimators': 180, 'min_samples_split': 12, 'min_samples_leaf': 17, 'criterion': 'gini'}. Best is trial 20 with value: 0.8831613993712514.\n",
            "[I 2024-07-28 17:46:53,586] Trial 32 finished with value: 0.8829899952348801 and parameters: {'max_depth': 7, 'max_features': 17, 'n_estimators': 170, 'min_samples_split': 14, 'min_samples_leaf': 17, 'criterion': 'gini'}. Best is trial 20 with value: 0.8831613993712514.\n",
            "[I 2024-07-28 17:47:53,782] Trial 33 finished with value: 0.8827107439713284 and parameters: {'max_depth': 11, 'max_features': 21, 'n_estimators': 140, 'min_samples_split': 8, 'min_samples_leaf': 19, 'criterion': 'gini'}. Best is trial 20 with value: 0.8831613993712514.\n",
            "[I 2024-07-28 17:49:01,457] Trial 34 finished with value: 0.8828167505060662 and parameters: {'max_depth': 7, 'max_features': 25, 'n_estimators': 220, 'min_samples_split': 10, 'min_samples_leaf': 16, 'criterion': 'gini'}. Best is trial 20 with value: 0.8831613993712514.\n",
            "[I 2024-07-28 17:49:56,973] Trial 35 finished with value: 0.8818441505530662 and parameters: {'max_depth': 15, 'max_features': 8, 'n_estimators': 210, 'min_samples_split': 12, 'min_samples_leaf': 13, 'criterion': 'log_loss'}. Best is trial 20 with value: 0.8831613993712514.\n",
            "[I 2024-07-28 17:50:43,860] Trial 36 finished with value: 0.8830265366518525 and parameters: {'max_depth': 11, 'max_features': 15, 'n_estimators': 140, 'min_samples_split': 14, 'min_samples_leaf': 19, 'criterion': 'gini'}. Best is trial 20 with value: 0.8831613993712514.\n",
            "[I 2024-07-28 17:52:00,763] Trial 37 finished with value: 0.8827999533753376 and parameters: {'max_depth': 7, 'max_features': 32, 'n_estimators': 250, 'min_samples_split': 8, 'min_samples_leaf': 16, 'criterion': 'gini'}. Best is trial 20 with value: 0.8831613993712514.\n",
            "[I 2024-07-28 17:55:04,500] Trial 38 finished with value: 0.8782014221846635 and parameters: {'max_depth': 29, 'max_features': 21, 'n_estimators': 280, 'min_samples_split': 16, 'min_samples_leaf': 18, 'criterion': 'log_loss'}. Best is trial 20 with value: 0.8831613993712514.\n",
            "[I 2024-07-28 17:56:01,365] Trial 39 finished with value: 0.8808388228244058 and parameters: {'max_depth': 26, 'max_features': 11, 'n_estimators': 180, 'min_samples_split': 10, 'min_samples_leaf': 20, 'criterion': 'gini'}. Best is trial 20 with value: 0.8831613993712514.\n"
          ]
        },
        {
          "name": "stdout",
          "output_type": "stream",
          "text": [
            "Best one: {'max_depth': 8, 'max_features': 23, 'n_estimators': 220, 'min_samples_split': 12, 'min_samples_leaf': 18, 'criterion': 'gini'} 0.8831613993712514\n"
          ]
        }
      ],
      "source": [
        "def obj_optuna(trial):\n",
        "    \n",
        "    params = {\n",
        "        'max_depth': trial.suggest_int('max_depth', 5, 50),  \n",
        "        'max_features': trial.suggest_int('max_features', 3, 50),\n",
        "        'n_estimators': trial.suggest_int('n_estimators', 10, 300, 10),\n",
        "        'min_samples_split': trial.suggest_int('min_samples_split', 2, 17, 2),\n",
        "        'min_samples_leaf': trial.suggest_int('min_samples_leaf', 1, 20, 1),\n",
        "        'criterion': trial.suggest_categorical('criterion', ['gini', 'log_loss'])\n",
        "    }\n",
        "    \n",
        "    model = Pipeline(steps=[\n",
        "        (\"preprocessor\", preprocessor),\n",
        "        (\"classifier\", RandomForestClassifier(**params,\n",
        "                                              random_state=42))])\n",
        "    model.fit(Xtrain, ytrain)\n",
        "    preds = model.predict_proba(Xtest)\n",
        "\n",
        "    return roc_auc_score(ytest,preds[:,1])\n",
        "\n",
        "study_optuna = optuna.create_study(direction='maximize', pruner='MedianPruner')\n",
        "study_optuna.optimize(obj_optuna, n_trials=40)\n",
        "print('Best one:', study_optuna.best_trial.params, study_optuna.best_value)"
      ]
    },
    {
      "cell_type": "markdown",
      "metadata": {},
      "source": [
        "Выводы\n",
        "----------------"
      ]
    },
    {
      "cell_type": "code",
      "execution_count": 83,
      "metadata": {},
      "outputs": [
        {
          "data": {
            "image/png": "[encoded data removed]",
            "text/plain": [
              "<Figure size 800x400 with 1 Axes>"
            ]
          },
          "metadata": {},
          "output_type": "display_data"
        }
      ],
      "source": [
        "%matplotlib inline\n",
        "sns.set(rc={'figure.figsize':(8, 4)})\n",
        "sns.barplot(x='params', y='cv_ROC_AUC_score', data=stat, palette='deep')\n",
        "plt.title('basic vs hyperopt(40 iters) optuna(40 iters)')\n",
        "plt.ylim([0.85, 0.89])\n",
        "plt.ylabel('ROC_AUC Score')\n",
        "plt.xlabel('')\n",
        "plt.show()"
      ]
    },
    {
      "cell_type": "markdown",
      "metadata": {},
      "source": [
        "Да, гиперопт работает, но, по-ощущениям, Optuna лучше.                   \n",
        "1. У оптюны более логичный синтаксис (в гиперопте все от минимизации функции потерь).\n",
        "2. В гиперопте нет опции продолжения исследования (типа optimize optuna).\n",
        "3. Судя по документации, гиперопт не умеет прунить неудачные попытки, однако существенных отличий в быстродействии я не увидел. \n",
        "Возможно, оно будет более заметно при увеличении числа трейлов.\n",
        "4. *Увеличение числа перебираемых гиперпараметров не дало вау-эффекта в рамках 40 трейлов. Можно было бы покрутить еще пару сотен трейлов, но задание не про максимальный скор, да и, вероятно, удалить больше времени обработке датасета и фича инжинирингу было бы полезнее для итогового скора.\n",
        "\n",
        "----"
      ]
    }
  ],
  "metadata": {
    "colab": {
      "provenance": []
    },
    "kernelspec": {
      "display_name": "Python 3",
      "name": "python3"
    },
    "language_info": {
      "codemirror_mode": {
        "name": "ipython",
        "version": 3
      },
      "file_extension": ".py",
      "mimetype": "text/x-python",
      "name": "python",
      "nbconvert_exporter": "python",
      "pygments_lexer": "ipython3",
      "version": "3.12.1"
    }
  },
  "nbformat": 4,
  "nbformat_minor": 0
}
